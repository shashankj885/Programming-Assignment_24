{
 "cells": [
  {
   "cell_type": "markdown",
   "id": "6d3dd3d1",
   "metadata": {},
   "source": [
    "Question1\n",
    "Create a function that takes an integer and returns a list from 1 to the given number, where:\n",
    "1. If the number can be divided evenly by 4, amplify it by 10 (i.e. return 10 times the\n",
    "number).\n",
    "2. If the number cannot be divided evenly by 4, simply return the number.\n",
    "Examples\n",
    "amplify(4) ➞ [1, 2, 3, 40]\n",
    "amplify(3) ➞ [1, 2, 3]\n",
    "amplify(25) ➞ [1, 2, 3, 40, 5, 6, 7, 80, 9, 10, 11, 120, 13, 14, 15, 160,\n",
    "17, 18, 19, 200, 21, 22, 23, 240, 25]\n",
    "Notes\n",
    " The given integer will always be equal to or greater than 1.\n",
    " Include the number (see example above).\n",
    " To perform this problem with its intended purpose, try doing it with list\n",
    "comprehensions. If that&#39;s too difficult, just solve the challenge any way you can."
   ]
  },
  {
   "cell_type": "code",
   "execution_count": 4,
   "id": "e6dd1d8d",
   "metadata": {},
   "outputs": [],
   "source": [
    "def amplify(n):\n",
    "    return [i*10 if i % 4 == 0 else i for i in range(1,n+1) ]"
   ]
  },
  {
   "cell_type": "code",
   "execution_count": 5,
   "id": "38989d11",
   "metadata": {},
   "outputs": [
    {
     "data": {
      "text/plain": [
       "[1, 2, 3, 40]"
      ]
     },
     "execution_count": 5,
     "metadata": {},
     "output_type": "execute_result"
    }
   ],
   "source": [
    "amplify(4)"
   ]
  },
  {
   "cell_type": "code",
   "execution_count": 6,
   "id": "bf6aa426",
   "metadata": {},
   "outputs": [
    {
     "data": {
      "text/plain": [
       "[1, 2, 3]"
      ]
     },
     "execution_count": 6,
     "metadata": {},
     "output_type": "execute_result"
    }
   ],
   "source": [
    "amplify(3)"
   ]
  },
  {
   "cell_type": "code",
   "execution_count": 7,
   "id": "0d54a3bc",
   "metadata": {},
   "outputs": [
    {
     "name": "stdout",
     "output_type": "stream",
     "text": [
      "[1, 2, 3, 40, 5, 6, 7, 80, 9, 10, 11, 120, 13, 14, 15, 160, 17, 18, 19, 200, 21, 22, 23, 240, 25]\n"
     ]
    }
   ],
   "source": [
    "print(amplify(25))"
   ]
  },
  {
   "cell_type": "markdown",
   "id": "c94c1b2f",
   "metadata": {},
   "source": [
    "Question2\n",
    "Create a function that takes a list of numbers and return the number that&#39;s unique.\n",
    "Examples\n",
    "unique([3, 3, 3, 7, 3, 3]) ➞ 7\n",
    "unique([0, 0, 0.77, 0, 0]) ➞ 0.77\n",
    "unique([0, 1, 1, 1, 1, 1, 1, 1]) ➞ 0\n",
    "Notes\n",
    "Test cases will always have exactly one unique number while all others are the same."
   ]
  },
  {
   "cell_type": "code",
   "execution_count": 8,
   "id": "758eb34b",
   "metadata": {},
   "outputs": [],
   "source": [
    "def unique(lst):\n",
    "    s = list(set(lst))# give us unique value\n",
    "    for i in s:\n",
    "        if lst.count(i) == 1:\n",
    "            return i"
   ]
  },
  {
   "cell_type": "code",
   "execution_count": 9,
   "id": "d1c5b255",
   "metadata": {},
   "outputs": [
    {
     "data": {
      "text/plain": [
       "7"
      ]
     },
     "execution_count": 9,
     "metadata": {},
     "output_type": "execute_result"
    }
   ],
   "source": [
    "unique([3, 3, 3, 7, 3, 3])"
   ]
  },
  {
   "cell_type": "code",
   "execution_count": 10,
   "id": "48f221fc",
   "metadata": {},
   "outputs": [
    {
     "data": {
      "text/plain": [
       "0.77"
      ]
     },
     "execution_count": 10,
     "metadata": {},
     "output_type": "execute_result"
    }
   ],
   "source": [
    "unique([0, 0, 0.77, 0, 0])"
   ]
  },
  {
   "cell_type": "code",
   "execution_count": 11,
   "id": "6e4f5f03",
   "metadata": {},
   "outputs": [
    {
     "data": {
      "text/plain": [
       "0"
      ]
     },
     "execution_count": 11,
     "metadata": {},
     "output_type": "execute_result"
    }
   ],
   "source": [
    "unique([0, 1, 1, 1, 1, 1, 1, 1])"
   ]
  },
  {
   "cell_type": "markdown",
   "id": "57d991e0",
   "metadata": {},
   "source": [
    "Question3\n",
    "Your task is to create a Circle constructor that creates a circle with a radius provided by an\n",
    "argument. The circles constructed must have two getters getArea() (PIr^2) and\n",
    "getPerimeter() (2PI*r) which give both respective areas and perimeter (circumference).\n",
    "\n",
    "For help with this class, I have provided you with a Rectangle constructor which you can use\n",
    "as a base example.\n",
    "Examples\n",
    "circy = Circle(11)\n",
    "circy.getArea()\n",
    "# Should return 380.132711084365\n",
    "circy = Circle(4.44)\n",
    "circy.getPerimeter()\n",
    "# Should return 27.897342763877365\n",
    "Notes\n",
    "Round results up to the nearest integer."
   ]
  },
  {
   "cell_type": "code",
   "execution_count": 12,
   "id": "3ff6c75d",
   "metadata": {},
   "outputs": [],
   "source": [
    "class Circle():\n",
    "    def __init__(self, r):\n",
    "        self.radius = r\n",
    "\n",
    "    def getArea(self):\n",
    "        return round(self.radius**2*3.14)\n",
    "    \n",
    "    def getPerimeter(self):\n",
    "        return round(2*self.radius*3.14)"
   ]
  },
  {
   "cell_type": "code",
   "execution_count": 13,
   "id": "6aed083e",
   "metadata": {},
   "outputs": [
    {
     "data": {
      "text/plain": [
       "380"
      ]
     },
     "execution_count": 13,
     "metadata": {},
     "output_type": "execute_result"
    }
   ],
   "source": [
    "circy = Circle(11)\n",
    "circy.getArea()"
   ]
  },
  {
   "cell_type": "code",
   "execution_count": 14,
   "id": "8727bfd4",
   "metadata": {},
   "outputs": [
    {
     "data": {
      "text/plain": [
       "28"
      ]
     },
     "execution_count": 14,
     "metadata": {},
     "output_type": "execute_result"
    }
   ],
   "source": [
    "circy = Circle(4.44)\n",
    "circy.getPerimeter()"
   ]
  },
  {
   "cell_type": "markdown",
   "id": "3a078ca8",
   "metadata": {},
   "source": [
    "Question4\n",
    "Create a function that takes a list of strings and return a list, sorted from shortest to longest.\n",
    "Examples\n",
    "sort_by_length([&quot;Google&quot;, &quot;Apple&quot;, &quot;Microsoft&quot;])\n",
    "➞ [&quot;Apple&quot;, &quot;Google&quot;, &quot;Microsoft&quot;]\n",
    "sort_by_length([&quot;Leonardo&quot;, &quot;Michelangelo&quot;, &quot;Raphael&quot;, &quot;Donatello&quot;])\n",
    "➞ [&quot;Raphael&quot;, &quot;Leonardo&quot;, &quot;Donatello&quot;, &quot;Michelangelo&quot;]\n",
    "sort_by_length([&quot;Turing&quot;, &quot;Einstein&quot;, &quot;Jung&quot;])\n",
    "➞ [&quot;Jung&quot;, &quot;Turing&quot;, &quot;Einstein&quot;]\n",
    "Notes\n",
    "All test cases contain lists with strings of different lengths, so you won&#39;t have to deal with\n",
    "multiple strings of the same length."
   ]
  },
  {
   "cell_type": "code",
   "execution_count": 15,
   "id": "922b753d",
   "metadata": {},
   "outputs": [],
   "source": [
    "def sort_by_length(lst):\n",
    "    return sorted(lst, key = len)"
   ]
  },
  {
   "cell_type": "code",
   "execution_count": 16,
   "id": "d2adde8a",
   "metadata": {},
   "outputs": [
    {
     "data": {
      "text/plain": [
       "['Apple', 'Google', 'Microsoft']"
      ]
     },
     "execution_count": 16,
     "metadata": {},
     "output_type": "execute_result"
    }
   ],
   "source": [
    "sort_by_length(['Google', 'Apple', 'Microsoft'])"
   ]
  },
  {
   "cell_type": "code",
   "execution_count": 17,
   "id": "5e3435c1",
   "metadata": {},
   "outputs": [
    {
     "data": {
      "text/plain": [
       "['Raphael', 'Leonardo', 'Donatello', 'Michelangelo']"
      ]
     },
     "execution_count": 17,
     "metadata": {},
     "output_type": "execute_result"
    }
   ],
   "source": [
    "sort_by_length(['Leonardo', 'Michelangelo', 'Raphael', 'Donatello'])"
   ]
  },
  {
   "cell_type": "code",
   "execution_count": 18,
   "id": "896391d4",
   "metadata": {},
   "outputs": [
    {
     "data": {
      "text/plain": [
       "['Jung', 'Turing', 'Einstein']"
      ]
     },
     "execution_count": 18,
     "metadata": {},
     "output_type": "execute_result"
    }
   ],
   "source": [
    "sort_by_length(['Turing', 'Einstein', 'Jung'])"
   ]
  },
  {
   "cell_type": "markdown",
   "id": "31d2e4a4",
   "metadata": {},
   "source": [
    "Question5\n",
    "Create a function that validates whether three given integers form a Pythagorean triplet. The\n",
    "sum of the squares of the two smallest integers must equal the square of the largest number to\n",
    "be validated.\n",
    "\n",
    "Examples\n",
    "is_triplet(3, 4, 5) ➞ True\n",
    "# 3² + 4² = 25\n",
    "# 5² = 25\n",
    "is_triplet(13, 5, 12) ➞ True\n",
    "# 5² + 12² = 169\n",
    "# 13² = 169\n",
    "is_triplet(1, 2, 3) ➞ False\n",
    "# 1² + 2² = 5\n",
    "# 3² = 9\n",
    "Notes\n",
    "Numbers may not be given in a sorted"
   ]
  },
  {
   "cell_type": "code",
   "execution_count": 19,
   "id": "29a6eb9f",
   "metadata": {},
   "outputs": [],
   "source": [
    "def is_triplet(a,b,c):\n",
    "    lst = []\n",
    "    lst.extend((a,b,c))\n",
    "    lst = sorted(lst)\n",
    "\n",
    "    if lst[0]**2 + lst[1]**2 == lst[2]**2:\n",
    "        print('Triplets')\n",
    "        return True\n",
    "    else:\n",
    "        print(\"not triplet\")\n",
    "        return False"
   ]
  },
  {
   "cell_type": "code",
   "execution_count": 20,
   "id": "f9b6793f",
   "metadata": {},
   "outputs": [
    {
     "name": "stdout",
     "output_type": "stream",
     "text": [
      "Triplets\n"
     ]
    },
    {
     "data": {
      "text/plain": [
       "True"
      ]
     },
     "execution_count": 20,
     "metadata": {},
     "output_type": "execute_result"
    }
   ],
   "source": [
    "is_triplet(3, 4, 5)"
   ]
  },
  {
   "cell_type": "code",
   "execution_count": 21,
   "id": "88ca40e2",
   "metadata": {},
   "outputs": [
    {
     "name": "stdout",
     "output_type": "stream",
     "text": [
      "Triplets\n"
     ]
    },
    {
     "data": {
      "text/plain": [
       "True"
      ]
     },
     "execution_count": 21,
     "metadata": {},
     "output_type": "execute_result"
    }
   ],
   "source": [
    "is_triplet(13, 5, 12) "
   ]
  },
  {
   "cell_type": "code",
   "execution_count": 22,
   "id": "ad46d66c",
   "metadata": {},
   "outputs": [
    {
     "name": "stdout",
     "output_type": "stream",
     "text": [
      "not triplet\n"
     ]
    },
    {
     "data": {
      "text/plain": [
       "False"
      ]
     },
     "execution_count": 22,
     "metadata": {},
     "output_type": "execute_result"
    }
   ],
   "source": [
    "is_triplet(1, 2, 3)"
   ]
  }
 ],
 "metadata": {
  "kernelspec": {
   "display_name": "Python 3 (ipykernel)",
   "language": "python",
   "name": "python3"
  },
  "language_info": {
   "codemirror_mode": {
    "name": "ipython",
    "version": 3
   },
   "file_extension": ".py",
   "mimetype": "text/x-python",
   "name": "python",
   "nbconvert_exporter": "python",
   "pygments_lexer": "ipython3",
   "version": "3.9.13"
  }
 },
 "nbformat": 4,
 "nbformat_minor": 5
}
